{
 "cells": [
  {
   "cell_type": "markdown",
   "id": "25d7736c-ba17-4aff-b6bb-66eba20fbf4e",
   "metadata": {},
   "source": [
    "# Lab | List, Dict and Set Comprehension"
   ]
  },
  {
   "cell_type": "markdown",
   "id": "7dd3cbde-675a-4b81-92c3-f728846dbe06",
   "metadata": {},
   "source": [
    "## Exercise: Managing Customer Orders Optimized with Comprehension"
   ]
  },
  {
   "cell_type": "markdown",
   "id": "5d500160-2fb7-4777-b5e4-09d45ebaf328",
   "metadata": {},
   "source": [
    "In the previous exercise, you developed a program to manage customer orders and inventory. Now, let's take it a step further and incorporate comprehension into your code.\n",
    "\n",
    "Follow the steps below to complete the exercise:\n",
    "\n",
    "1. Review your code from the previous exercise and identify areas where you can apply comprehension to simplify and streamline your code. \n",
    "\n",
    "    - *Hint: Apply it to initialize inventory, updating the inventory and printing the updated inventory.*\n",
    "    \n",
    "    - For example, in initializing the inventory, we could have:\n",
    "    \n",
    "        ```python\n",
    "        def initialize_inventory(products):\n",
    "            inventory = {product: int(input(f\"Enter the quantity of {product}s available: \")) for product in products}\n",
    "            return inventory\n",
    "\n",
    "        ```\n",
    "<br>\n",
    "    \n",
    "    \n",
    "2. Modify the function get_customer_orders so it prompts the user to enter the number of customer orders and gathers the product names using a loop and user input. Use comprehension.\n",
    "\n",
    "3. Add a new function to calculate the total price of the customer order. For each product in customer_orders, prompt the user to enter the price of that product. Use comprehension to calculate the total price. Note: assume that the user can only have 1 unit of each product.\n",
    "\n",
    "4. Modify the update_inventory function to remove the product from the inventory if its quantity becomes zero after fulfilling the customer orders. Use comprehension to filter out the products with a quantity of zero from the inventory.\n",
    "\n",
    "5. Print the total price of the customer order.\n",
    "\n",
    "Your code should produce output similar to the following:\n",
    "\n",
    "```python\n",
    "Enter the quantity of t-shirts available:  5\n",
    "Enter the quantity of mugs available:  4\n",
    "Enter the quantity of hats available:  3\n",
    "Enter the quantity of books available:  2\n",
    "Enter the quantity of keychains available:  1\n",
    "Enter the number of customer orders:  2\n",
    "Enter the name of a product that a customer wants to order:  hat\n",
    "Enter the name of a product that a customer wants to order:  keychain\n",
    "\n",
    "Order Statistics:\n",
    "Total Products Ordered: 2\n",
    "Percentage of Unique Products Ordered: 40.0\n",
    "\n",
    "Updated Inventory:\n",
    "t-shirt: 5\n",
    "mug: 4\n",
    "hat: 2\n",
    "book: 2\n",
    "Enter the price of keychain:  5\n",
    "Enter the price of hat:  10\n",
    "Total Price: 15.0\n",
    "\n",
    "```\n"
   ]
  },
  {
   "cell_type": "code",
   "execution_count": 95,
   "id": "d851dd51-77d0-4f68-82dd-157c9bb7cd72",
   "metadata": {},
   "outputs": [],
   "source": [
    "products = [\"t-shirt\", \"mug\", \"hat\", \"book\", \"keychain\"]\n",
    "\n",
    "\n",
    "def initialize_inventory(products):\n",
    "    inventory = {product:int(input(F\"What is the quantity of {product}\")) for product in products}  # dict comp. to assign quantity to inventory\n",
    "    \n",
    "    return inventory\n"
   ]
  },
  {
   "cell_type": "code",
   "execution_count": 161,
   "id": "9e64190b-6144-4f2e-a515-cdb2283709a5",
   "metadata": {},
   "outputs": [],
   "source": [
    "def initialize_price(c_orders):\n",
    "    price_dict = {product:int(input(F\"Enter the price of {product}: \")) for product in c_orders}  # dict comp. to assign quantity to inventory\n",
    "    \n",
    "    return price_dict\n"
   ]
  },
  {
   "cell_type": "code",
   "execution_count": 93,
   "id": "38f829e8-12dc-4ea7-9c29-33cea9f2b2f1",
   "metadata": {},
   "outputs": [],
   "source": [
    "def get_customer_orders(products): #  Get Orders of the Customer\n",
    "    amount_orders = int(input(\"How many orders do you want to make?: \"))\n",
    "    customer_orders = {input(F\"What do you want to order something from {products} ?\").lower().strip() for _ in range(amount_orders)}\n",
    "\n",
    "    return customer_orders"
   ]
  },
  {
   "cell_type": "code",
   "execution_count": 97,
   "id": "dc118bf0-9916-4694-be80-b77dcd52a639",
   "metadata": {},
   "outputs": [
    {
     "name": "stdin",
     "output_type": "stream",
     "text": [
      "How many orders do you want to make?:  2\n",
      "What do you want to order something from ['t-shirt', 'mug', 'hat', 'book', 'keychain'] ? mug\n",
      "What do you want to order something from ['t-shirt', 'mug', 'hat', 'book', 'keychain'] ? hat\n"
     ]
    },
    {
     "data": {
      "text/plain": [
       "{'hat', 'mug'}"
      ]
     },
     "execution_count": 97,
     "metadata": {},
     "output_type": "execute_result"
    }
   ],
   "source": [
    "customer = get_customer_orders(products)\n",
    "customer #  Test if its wortking"
   ]
  },
  {
   "cell_type": "code",
   "execution_count": 157,
   "id": "b2ec3456-5069-4006-918a-f6d78e575abd",
   "metadata": {},
   "outputs": [],
   "source": [
    "def update_inventory(orders, inventory): # updating inventory and returning new inventory\n",
    "    for x in orders:\n",
    "        if x in inventory:\n",
    "            inventory[x] -= 1\n",
    "    return inventory\n",
    "\n",
    "def calculate_order_statistics(orders, products):\n",
    "    total_products_ordered = len(orders) # Counting orders of arg: \"order\"\n",
    "    total_unique_products = len(products)\n",
    "    percentage = total_products_ordered/total_unique_products*100\n",
    "    return total_products_ordered, total_unique_products, percentage\n",
    "\n",
    "def print_order_statistic(statistic):\n",
    "    print(F\" Total Products Ordered : {statistic[0]}\")\n",
    "    print(F\" Percentage of unique Products Ordered : {statistic[2]} %\")\n",
    "\n",
    "def print_updatet_inventory(inventory):\n",
    "    print(F\"New inventory:\")\n",
    "    for key in inventory:\n",
    "        print(F\"{key} : {inventory[key]}\")\n",
    "\n",
    "def calculate_total(pricelist):\n",
    "    total = sum(pricelist.values())\n",
    "    print(F\"Total price: {total}\")\n",
    "    # return total"
   ]
  },
  {
   "cell_type": "code",
   "execution_count": 103,
   "id": "1ee77307-5656-48e3-8cfe-3b1c0d17f9f7",
   "metadata": {},
   "outputs": [
    {
     "name": "stdin",
     "output_type": "stream",
     "text": [
      "What is the quantity of t-shirt 2\n",
      "What is the quantity of mug 3\n",
      "What is the quantity of hat 4\n",
      "What is the quantity of book 5\n",
      "What is the quantity of keychain 5\n"
     ]
    }
   ],
   "source": [
    "inventory = initialize_inventory(products)  # Calling initialize Inventory and assigning Amounts"
   ]
  },
  {
   "cell_type": "code",
   "execution_count": 111,
   "id": "c6a6324a-8f04-44ab-b504-51d735b94a06",
   "metadata": {},
   "outputs": [
    {
     "name": "stdin",
     "output_type": "stream",
     "text": [
      "How many orders do you want to make?:  2\n",
      "What do you want to order something from ['t-shirt', 'mug', 'hat', 'book', 'keychain'] ? mug\n",
      "What do you want to order something from ['t-shirt', 'mug', 'hat', 'book', 'keychain'] ? hat\n"
     ]
    }
   ],
   "source": [
    "customer_oders = get_customer_orders(products) # calling get orders and saving into a variable\n"
   ]
  },
  {
   "cell_type": "code",
   "execution_count": 115,
   "id": "1c08e273-c388-4f0c-a531-118b26ffb2cd",
   "metadata": {},
   "outputs": [
    {
     "data": {
      "text/plain": [
       "{'t-shirt': 2, 'mug': 3, 'hat': 4, 'book': 5, 'keychain': 5}"
      ]
     },
     "execution_count": 115,
     "metadata": {},
     "output_type": "execute_result"
    }
   ],
   "source": [
    "inventory"
   ]
  },
  {
   "cell_type": "code",
   "execution_count": 123,
   "id": "ec4e8cf9-3a73-4abc-9d14-0796b7875c8a",
   "metadata": {},
   "outputs": [],
   "source": [
    "inventory = update_inventory(customer_oders, inventory) # Calling new inventory and overwriting in the old variable"
   ]
  },
  {
   "cell_type": "code",
   "execution_count": 125,
   "id": "4dd75dec-02a4-461d-89c0-a8821fadd16c",
   "metadata": {},
   "outputs": [],
   "source": [
    "order_statistic = calculate_order_statistics(customer_oders, inventory) # Create a order Statistic as a tuple"
   ]
  },
  {
   "cell_type": "code",
   "execution_count": null,
   "id": "a0f2c5d5-fffb-44f8-9a4e-e00a88d7d657",
   "metadata": {},
   "outputs": [],
   "source": [
    "print_order_statistic(order_statistic) # Print statistic"
   ]
  },
  {
   "cell_type": "code",
   "execution_count": null,
   "id": "c566783b-98c9-42e3-bfdc-8f14c8c269d6",
   "metadata": {},
   "outputs": [],
   "source": [
    "print_updatet_inventory(inventory) # Print updatet inventory"
   ]
  },
  {
   "cell_type": "markdown",
   "id": "6d7c53fa-6412-4e8f-9e9a-bed742a57cf4",
   "metadata": {},
   "source": [
    "# pricelist = initialize_price(customer_oders) # Initialize prices in a variable "
   ]
  },
  {
   "cell_type": "code",
   "execution_count": 167,
   "id": "5e4b8a38-e860-4194-b2fa-ef572ae879bb",
   "metadata": {},
   "outputs": [
    {
     "name": "stdin",
     "output_type": "stream",
     "text": [
      "Enter the price of hat:  2\n",
      "Enter the price of mug:  \n"
     ]
    },
    {
     "ename": "ValueError",
     "evalue": "invalid literal for int() with base 10: ''",
     "output_type": "error",
     "traceback": [
      "\u001b[0;31m---------------------------------------------------------------------------\u001b[0m",
      "\u001b[0;31mValueError\u001b[0m                                Traceback (most recent call last)",
      "Cell \u001b[0;32mIn[167], line 1\u001b[0m\n\u001b[0;32m----> 1\u001b[0m calculate_total(initialize_price(customer_oders))\n",
      "Cell \u001b[0;32mIn[161], line 2\u001b[0m, in \u001b[0;36minitialize_price\u001b[0;34m(c_orders)\u001b[0m\n\u001b[1;32m      1\u001b[0m \u001b[38;5;28;01mdef\u001b[39;00m \u001b[38;5;21minitialize_price\u001b[39m(c_orders):\n\u001b[0;32m----> 2\u001b[0m     price_dict \u001b[38;5;241m=\u001b[39m {product:\u001b[38;5;28mint\u001b[39m(\u001b[38;5;28minput\u001b[39m(\u001b[38;5;124mF\u001b[39m\u001b[38;5;124m\"\u001b[39m\u001b[38;5;124mEnter the price of \u001b[39m\u001b[38;5;132;01m{\u001b[39;00mproduct\u001b[38;5;132;01m}\u001b[39;00m\u001b[38;5;124m: \u001b[39m\u001b[38;5;124m\"\u001b[39m)) \u001b[38;5;28;01mfor\u001b[39;00m product \u001b[38;5;129;01min\u001b[39;00m c_orders}  \u001b[38;5;66;03m# dict comp. to assign quantity to inventory\u001b[39;00m\n\u001b[1;32m      4\u001b[0m     \u001b[38;5;28;01mreturn\u001b[39;00m price_dict\n",
      "\u001b[0;31mValueError\u001b[0m: invalid literal for int() with base 10: ''"
     ]
    }
   ],
   "source": [
    "calculate_total(initialize_price(customer_oders)) # Calling Initialize Price from Customer Orders - Sacrifices readability..."
   ]
  },
  {
   "cell_type": "code",
   "execution_count": null,
   "id": "3c0394bc-6f1a-460b-aa64-a3a7bd241bc6",
   "metadata": {},
   "outputs": [],
   "source": []
  },
  {
   "cell_type": "code",
   "execution_count": null,
   "id": "9691d3ea-fb6b-4a3b-a5da-b024de4c8a1e",
   "metadata": {},
   "outputs": [],
   "source": []
  },
  {
   "cell_type": "code",
   "execution_count": null,
   "id": "147c8e90-477c-4998-b05d-29eb32ac77fc",
   "metadata": {},
   "outputs": [],
   "source": []
  }
 ],
 "metadata": {
  "kernelspec": {
   "display_name": "Python 3 (ipykernel)",
   "language": "python",
   "name": "python3"
  },
  "language_info": {
   "codemirror_mode": {
    "name": "ipython",
    "version": 3
   },
   "file_extension": ".py",
   "mimetype": "text/x-python",
   "name": "python",
   "nbconvert_exporter": "python",
   "pygments_lexer": "ipython3",
   "version": "3.12.4"
  }
 },
 "nbformat": 4,
 "nbformat_minor": 5
}
